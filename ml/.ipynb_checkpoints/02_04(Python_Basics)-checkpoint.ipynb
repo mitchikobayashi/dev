{
  "nbformat": 4,
  "nbformat_minor": 0,
  "metadata": {
    "colab": {
      "provenance": []
    },
    "kernelspec": {
      "name": "python3",
      "display_name": "Python 3"
    },
    "accelerator": "GPU"
  },
  "cells": [
    {
      "cell_type": "markdown",
      "metadata": {
        "id": "UI8SY3HtxsSM"
      },
      "source": [
        "#準備\n",
        "\n",
        "## Pythonのバージョンを確認しましょう"
      ]
    },
    {
      "cell_type": "code",
      "metadata": {
        "id": "yMuayWDWxxRa",
        "outputId": "5aa6df33-dde0-4bf4-b038-9c8ceaf93e8f",
        "colab": {
          "base_uri": "https://localhost:8080/"
        }
      },
      "source": [
        "!python --version"
      ],
      "execution_count": 1,
      "outputs": [
        {
          "output_type": "stream",
          "name": "stdout",
          "text": [
            "Python 3.10.12\n"
          ]
        }
      ]
    },
    {
      "cell_type": "markdown",
      "metadata": {
        "id": "GzDrX7cERdhn"
      },
      "source": [
        "# Python 基礎"
      ]
    },
    {
      "cell_type": "markdown",
      "metadata": {
        "id": "C7rz3zPEsxaM"
      },
      "source": [
        "## Hello Worldと表示してみよう"
      ]
    },
    {
      "cell_type": "code",
      "metadata": {
        "id": "7Oeh6F4As0RM",
        "outputId": "ceecfddd-5cb5-4ba3-ed8b-5d9cc9d61b3d",
        "colab": {
          "base_uri": "https://localhost:8080/"
        }
      },
      "source": [
        "print('Hello World')"
      ],
      "execution_count": 2,
      "outputs": [
        {
          "output_type": "stream",
          "name": "stdout",
          "text": [
            "Hello World\n"
          ]
        }
      ]
    },
    {
      "cell_type": "markdown",
      "metadata": {
        "id": "fadwaeBRs614"
      },
      "source": [
        "## 日本語の出力"
      ]
    },
    {
      "cell_type": "code",
      "metadata": {
        "id": "Gf1IWyqAtEB9",
        "outputId": "f4e959eb-4efa-407d-c875-a5c34f6cfe28",
        "colab": {
          "base_uri": "https://localhost:8080/"
        }
      },
      "source": [
        "print('日本語')"
      ],
      "execution_count": 3,
      "outputs": [
        {
          "output_type": "stream",
          "name": "stdout",
          "text": [
            "日本語\n"
          ]
        }
      ]
    },
    {
      "cell_type": "markdown",
      "metadata": {
        "id": "wXhNT1vHtIR8"
      },
      "source": [
        "## コメントの書き方"
      ]
    },
    {
      "cell_type": "code",
      "metadata": {
        "id": "nY1Qr-jTtO7g",
        "outputId": "d8e32d6d-2431-4549-a54b-a85f8b504c5a",
        "colab": {
          "base_uri": "https://localhost:8080/"
        }
      },
      "source": [
        "# ここはコメントです、プログラムの実行に影響がありません\n",
        "print('コメントの書き方は #で始まります。')"
      ],
      "execution_count": 4,
      "outputs": [
        {
          "output_type": "stream",
          "name": "stdout",
          "text": [
            "コメントの書き方は #で始まります。\n"
          ]
        }
      ]
    },
    {
      "cell_type": "markdown",
      "metadata": {
        "id": "4Eo_u-_btZPL"
      },
      "source": [
        "## 演算"
      ]
    },
    {
      "cell_type": "code",
      "metadata": {
        "id": "QlBV_ADatgU9",
        "outputId": "7c5c474a-0a00-4cf1-acc3-650aa536ddab",
        "colab": {
          "base_uri": "https://localhost:8080/"
        }
      },
      "source": [
        "# 足し算 +\n",
        "print(4+5)\n",
        "# 引き算 -\n",
        "print(1-2)\n",
        "# 掛け算 *\n",
        "print(3*3)\n",
        "# 除算 /\n",
        "print(18/6)\n",
        "# 除算のあまりの数\n",
        "print(11%5)\n",
        "#　2の三乗\n",
        "print(2**3)"
      ],
      "execution_count": 5,
      "outputs": [
        {
          "output_type": "stream",
          "name": "stdout",
          "text": [
            "9\n",
            "-1\n",
            "9\n",
            "3.0\n",
            "1\n",
            "8\n"
          ]
        }
      ]
    },
    {
      "cell_type": "markdown",
      "metadata": {
        "id": "M0WxTJEkRuQa"
      },
      "source": [
        "# 変数"
      ]
    },
    {
      "cell_type": "markdown",
      "metadata": {
        "id": "9LCpheEnt0wj"
      },
      "source": [
        "## 変数とは"
      ]
    },
    {
      "cell_type": "code",
      "metadata": {
        "id": "Q75_7j3Ju6xm",
        "outputId": "987876d8-38fc-4365-ea64-534f964ee82c",
        "colab": {
          "base_uri": "https://localhost:8080/"
        }
      },
      "source": [
        "# 一回目 5を入れる\n",
        "a_number_in_the_box= 5\n",
        "# その「変数」\n",
        "print(a_number_in_the_box)\n",
        "# 二回目 10を入れる\n",
        "a_number_in_the_box= 10\n",
        "# 上の4行目と全く同じですが、出力が違います。\n",
        "print(a_number_in_the_box)"
      ],
      "execution_count": 6,
      "outputs": [
        {
          "output_type": "stream",
          "name": "stdout",
          "text": [
            "5\n",
            "10\n"
          ]
        }
      ]
    },
    {
      "cell_type": "markdown",
      "metadata": {
        "id": "fRh2AMxQen9O"
      },
      "source": [
        "## 文字列の変数"
      ]
    },
    {
      "cell_type": "code",
      "metadata": {
        "id": "6lLd8SbfvzjQ",
        "outputId": "a286b544-aafa-4ada-cf59-1004035539b6",
        "colab": {
          "base_uri": "https://localhost:8080/"
        }
      },
      "source": [
        "japanese_string='こんにちは'\n",
        "print(japanese_string)\n",
        "japanese_string='こんばんは'\n",
        "print(japanese_string)"
      ],
      "execution_count": 7,
      "outputs": [
        {
          "output_type": "stream",
          "name": "stdout",
          "text": [
            "こんにちは\n",
            "こんばんは\n"
          ]
        }
      ]
    },
    {
      "cell_type": "markdown",
      "metadata": {
        "id": "9A3RACPUxBwi"
      },
      "source": [
        "## 文字列の連結"
      ]
    },
    {
      "cell_type": "code",
      "metadata": {
        "id": "lqUfTTbExHLr",
        "outputId": "e622d2ba-9b15-4a18-ff42-fab51fe980c8",
        "colab": {
          "base_uri": "https://localhost:8080/"
        }
      },
      "source": [
        "my_name='Michiko'\n",
        "print('こんにちは'+my_name+'さん')"
      ],
      "execution_count": 8,
      "outputs": [
        {
          "output_type": "stream",
          "name": "stdout",
          "text": [
            "こんにちはMichikoさん\n"
          ]
        }
      ]
    },
    {
      "cell_type": "markdown",
      "metadata": {
        "id": "7GjFZwxL6oE4"
      },
      "source": [
        "# Pythonの型"
      ]
    },
    {
      "cell_type": "markdown",
      "metadata": {
        "id": "YGuqYkdpxek3"
      },
      "source": [
        " ## 型の出力"
      ]
    },
    {
      "cell_type": "code",
      "metadata": {
        "id": "b_Ub6XBkximR",
        "outputId": "703769fa-33c5-4d96-b7ef-0a5fb9d9fc4f",
        "colab": {
          "base_uri": "https://localhost:8080/"
        }
      },
      "source": [
        "amount=250\n",
        "type(amount)"
      ],
      "execution_count": 9,
      "outputs": [
        {
          "output_type": "execute_result",
          "data": {
            "text/plain": [
              "int"
            ]
          },
          "metadata": {},
          "execution_count": 9
        }
      ]
    },
    {
      "cell_type": "code",
      "metadata": {
        "id": "wI1ZZfcmyN6D",
        "outputId": "7d93233a-c84f-4fbd-cc5f-714a18aa50ac",
        "colab": {
          "base_uri": "https://localhost:8080/"
        }
      },
      "source": [
        "# int型\n",
        "test_integer=256\n",
        "print(type(test_integer))\n",
        "# str型\n",
        "test_str='文字列'\n",
        "print(type(test_str))\n",
        "# float型\n",
        "test_float=3.1415926\n",
        "print(type(test_float))\n",
        "# tuple型\n",
        "test_tuple=(1,2,3,4,5)\n",
        "print(type(test_tuple))\n",
        "# list型 他の言語にもある「配列」です\n",
        "test_list=[1,2,3,4,5]\n",
        "print(type(test_list))"
      ],
      "execution_count": 10,
      "outputs": [
        {
          "output_type": "stream",
          "name": "stdout",
          "text": [
            "<class 'int'>\n",
            "<class 'str'>\n",
            "<class 'float'>\n",
            "<class 'tuple'>\n",
            "<class 'list'>\n"
          ]
        }
      ]
    },
    {
      "cell_type": "markdown",
      "metadata": {
        "id": "sIG1iyKFVYgu"
      },
      "source": [
        "## 型の変換"
      ]
    },
    {
      "cell_type": "code",
      "metadata": {
        "id": "ixaHF5BRVbnK",
        "outputId": "71744520-829f-4849-8b33-bc4c227669e5",
        "colab": {
          "base_uri": "https://localhost:8080/"
        }
      },
      "source": [
        "num_of_epoch=10\n",
        "print('反復学習の回数：'+str(num_of_epoch)+'回です。')"
      ],
      "execution_count": 11,
      "outputs": [
        {
          "output_type": "stream",
          "name": "stdout",
          "text": [
            "反復学習の回数：10回です。\n"
          ]
        }
      ]
    },
    {
      "cell_type": "markdown",
      "metadata": {
        "id": "eK84_YyK63BG"
      },
      "source": [
        "## listの作り方\n"
      ]
    },
    {
      "cell_type": "code",
      "metadata": {
        "id": "D9lw6LnF7D81",
        "outputId": "42d20c66-18c9-4ad8-d942-33c6ab7a8f14",
        "colab": {
          "base_uri": "https://localhost:8080/"
        }
      },
      "source": [
        "languages=['English','French','Japanese']\n",
        "print(languages)"
      ],
      "execution_count": 12,
      "outputs": [
        {
          "output_type": "stream",
          "name": "stdout",
          "text": [
            "['English', 'French', 'Japanese']\n"
          ]
        }
      ]
    },
    {
      "cell_type": "code",
      "metadata": {
        "id": "sAGVoLDa7Wb_",
        "outputId": "8d92db28-67f5-4a9c-dbb0-43839a9599e7",
        "colab": {
          "base_uri": "https://localhost:8080/"
        }
      },
      "source": [
        "# 黒のRBG値\n",
        "black_color_rgb=[0,0,0]\n",
        "print(black_color_rgb)\n",
        "# 白のRBG値\n",
        "white_color_rgb=[255,255,255]\n",
        "print(white_color_rgb)\n",
        "# 緑のRGB値\n",
        "green_color_rgb=[0,255,0]\n",
        "print(green_color_rgb)"
      ],
      "execution_count": 13,
      "outputs": [
        {
          "output_type": "stream",
          "name": "stdout",
          "text": [
            "[0, 0, 0]\n",
            "[255, 255, 255]\n",
            "[0, 255, 0]\n"
          ]
        }
      ]
    },
    {
      "cell_type": "markdown",
      "metadata": {
        "id": "nhng9tnn796t"
      },
      "source": [
        "## 二次元配列"
      ]
    },
    {
      "cell_type": "code",
      "metadata": {
        "id": "dPfRWGES73BK",
        "outputId": "e07a3dde-3d61-4ad9-9808-8752df0cde92",
        "colab": {
          "base_uri": "https://localhost:8080/"
        }
      },
      "source": [
        "three_item_list=[1,0,1]\n",
        "three_item_matrix=[three_item_list,three_item_list,three_item_list]\n",
        "print(three_item_matrix)"
      ],
      "execution_count": null,
      "outputs": [
        {
          "output_type": "stream",
          "name": "stdout",
          "text": [
            "[[1, 0, 1], [1, 0, 1], [1, 0, 1]]\n"
          ]
        }
      ]
    },
    {
      "cell_type": "markdown",
      "metadata": {
        "id": "BtIVdIfF8b71"
      },
      "source": [
        "## 文字の多次元配列"
      ]
    },
    {
      "cell_type": "code",
      "metadata": {
        "id": "yClbjhU59Bgh",
        "outputId": "7ae26e93-5278-485b-a685-79fcd56ac5fb",
        "colab": {
          "base_uri": "https://localhost:8080/"
        }
      },
      "source": [
        "string_list=['二','三','四']\n",
        "three_item_matrix=[string_list,string_list,string_list]\n",
        "print(three_item_matrix)"
      ],
      "execution_count": null,
      "outputs": [
        {
          "output_type": "stream",
          "name": "stdout",
          "text": [
            "[['二', '三', '四'], ['二', '三', '四'], ['二', '三', '四']]\n"
          ]
        }
      ]
    },
    {
      "cell_type": "markdown",
      "metadata": {
        "id": "6-rsbjWw9Obz"
      },
      "source": [
        "## リストから値の出し方\n",
        "\n"
      ]
    },
    {
      "cell_type": "code",
      "metadata": {
        "id": "m4zn6-9V9Y-4",
        "outputId": "dea92a7d-7408-4c88-c6e7-2fba7461a6a0",
        "colab": {
          "base_uri": "https://localhost:8080/"
        }
      },
      "source": [
        "string_list=['〇番目の文字列','一番目の文字列','二番目の文字列']\n",
        "\n",
        "print(string_list[0])\n",
        "print(string_list[1])\n",
        "print(string_list[2])"
      ],
      "execution_count": null,
      "outputs": [
        {
          "output_type": "stream",
          "name": "stdout",
          "text": [
            "〇番目の文字列\n",
            "一番目の文字列\n",
            "二番目の文字列\n"
          ]
        }
      ]
    },
    {
      "cell_type": "markdown",
      "metadata": {
        "id": "_CFpwu_sZqV-"
      },
      "source": [
        "## リストのスライス"
      ]
    },
    {
      "cell_type": "code",
      "metadata": {
        "id": "R8bhWeJKZrnE",
        "outputId": "69ca9713-1ad4-4f35-a03a-5674d4bac28a",
        "colab": {
          "base_uri": "https://localhost:8080/"
        }
      },
      "source": [
        "train_data=[1,2,3,4,5,6,7,8,9,10]\n",
        "print(train_data[0:6])\n",
        "print(train_data[0:-6])\n",
        "print(train_data[:3])\n",
        "print(train_data[8:])\n",
        "print(train_data[0:100])"
      ],
      "execution_count": 14,
      "outputs": [
        {
          "output_type": "stream",
          "name": "stdout",
          "text": [
            "[1, 2, 3, 4, 5, 6]\n",
            "[1, 2, 3, 4]\n",
            "[1, 2, 3]\n",
            "[9, 10]\n",
            "[1, 2, 3, 4, 5, 6, 7, 8, 9, 10]\n"
          ]
        }
      ]
    },
    {
      "cell_type": "markdown",
      "metadata": {
        "id": "eseAx76iSGHs"
      },
      "source": [
        "## リスト要素の更新"
      ]
    },
    {
      "cell_type": "code",
      "metadata": {
        "id": "7e6IOa8jbwza",
        "outputId": "c3e39ed6-edb7-4c76-a61c-6ee2916d013f",
        "colab": {
          "base_uri": "https://localhost:8080/"
        }
      },
      "source": [
        "train_data=[1,2,3,4,5,6,7,8,9,10]\n",
        "train_data[0]=999\n",
        "print(train_data)"
      ],
      "execution_count": 15,
      "outputs": [
        {
          "output_type": "stream",
          "name": "stdout",
          "text": [
            "[999, 2, 3, 4, 5, 6, 7, 8, 9, 10]\n"
          ]
        }
      ]
    },
    {
      "cell_type": "markdown",
      "metadata": {
        "id": "JaY8lERQbtRF"
      },
      "source": [
        "## リスト要素の追加"
      ]
    },
    {
      "cell_type": "code",
      "metadata": {
        "id": "smd72_MObGl6",
        "outputId": "837a8a18-84a9-4626-94c9-ea7258c4f760",
        "colab": {
          "base_uri": "https://localhost:8080/"
        }
      },
      "source": [
        "train_data=[1,2,3,4,5,6,7,8,9,10]\n",
        "train_data=train_data+[11]\n",
        "print(train_data)\n",
        "train_data+=[12]\n",
        "print(train_data)\n",
        "train_data.append(13)\n",
        "print(train_data)"
      ],
      "execution_count": 16,
      "outputs": [
        {
          "output_type": "stream",
          "name": "stdout",
          "text": [
            "[1, 2, 3, 4, 5, 6, 7, 8, 9, 10, 11]\n",
            "[1, 2, 3, 4, 5, 6, 7, 8, 9, 10, 11, 12]\n",
            "[1, 2, 3, 4, 5, 6, 7, 8, 9, 10, 11, 12, 13]\n"
          ]
        }
      ]
    },
    {
      "cell_type": "markdown",
      "metadata": {
        "id": "712jacd0b5P5"
      },
      "source": [
        "## リスト要素の削除\n"
      ]
    },
    {
      "cell_type": "code",
      "metadata": {
        "id": "X6FEbJFRb7tJ",
        "outputId": "188d9c38-8298-4912-e736-24f43be87d72",
        "colab": {
          "base_uri": "https://localhost:8080/"
        }
      },
      "source": [
        "train_data=[1,2,3,4,5,6,7,8,9,10]\n",
        "del train_data[0]\n",
        "print(train_data)"
      ],
      "execution_count": 17,
      "outputs": [
        {
          "output_type": "stream",
          "name": "stdout",
          "text": [
            "[2, 3, 4, 5, 6, 7, 8, 9, 10]\n"
          ]
        }
      ]
    },
    {
      "cell_type": "markdown",
      "metadata": {
        "id": "0n86F6Qfd-NC"
      },
      "source": [
        "## リストの代入\n"
      ]
    },
    {
      "cell_type": "code",
      "metadata": {
        "id": "dFK35IU0d_3j",
        "outputId": "6067bea9-4c46-4183-b221-f6cbb69d6c38",
        "colab": {
          "base_uri": "https://localhost:8080/"
        }
      },
      "source": [
        "train_data=[1,2,3,4,5,6,7,8,9,10]\n",
        "train_data_new=train_data\n",
        "train_data_copy=train_data[:]\n",
        "# train_data_newは影響が受けます\n",
        "del train_data[0]\n",
        "print(train_data_new)\n",
        "print(train_data_copy)"
      ],
      "execution_count": 18,
      "outputs": [
        {
          "output_type": "stream",
          "name": "stdout",
          "text": [
            "[2, 3, 4, 5, 6, 7, 8, 9, 10]\n",
            "[1, 2, 3, 4, 5, 6, 7, 8, 9, 10]\n"
          ]
        }
      ]
    },
    {
      "cell_type": "markdown",
      "metadata": {
        "id": "cyi31MiLtjyL"
      },
      "source": [
        "# 条件分岐\n",
        "\n",
        "## if文と条件式\n"
      ]
    },
    {
      "cell_type": "code",
      "metadata": {
        "id": "PWdFBpbpzmHZ",
        "outputId": "f46ac2db-d1e8-47b2-cc1e-3c04e7261942",
        "colab": {
          "base_uri": "https://localhost:8080/"
        }
      },
      "source": [
        "# flowerは花を入れる変数です。\n",
        "flower='rose'\n",
        "print(flower=='rose')\n",
        "\n",
        "if flower=='rose':\n",
        "  print('花は薔薇ですね')"
      ],
      "execution_count": 19,
      "outputs": [
        {
          "output_type": "stream",
          "name": "stdout",
          "text": [
            "True\n",
            "花は薔薇ですね\n"
          ]
        }
      ]
    },
    {
      "cell_type": "markdown",
      "metadata": {
        "id": "-D2n05HQ1Omb"
      },
      "source": [
        "# else\n"
      ]
    },
    {
      "cell_type": "code",
      "metadata": {
        "id": "j2AnPIbZ1Rr2",
        "outputId": "f5930fcf-a073-424d-fa10-aafc07455b1f",
        "colab": {
          "base_uri": "https://localhost:8080/"
        }
      },
      "source": [
        "# flowerは花を入れる変数です。\n",
        "flower='tulip'\n",
        "print(flower=='rose')\n",
        "\n",
        "if flower=='rose':\n",
        "  print('花は薔薇ですね')\n",
        "else:\n",
        "  print('花は薔薇ではないですね')"
      ],
      "execution_count": 20,
      "outputs": [
        {
          "output_type": "stream",
          "name": "stdout",
          "text": [
            "False\n",
            "花は薔薇ではないですね\n"
          ]
        }
      ]
    },
    {
      "cell_type": "markdown",
      "metadata": {
        "id": "-9RP6BCo2NZr"
      },
      "source": [
        "# elif"
      ]
    },
    {
      "cell_type": "code",
      "metadata": {
        "id": "zUFTlNxI2WOG",
        "outputId": "283a3480-43aa-40ec-8e45-aa489cae60af",
        "colab": {
          "base_uri": "https://localhost:8080/"
        }
      },
      "source": [
        "# flowerは花を入れる変数です。\n",
        "flower='tulip'\n",
        "print(flower=='rose')\n",
        "\n",
        "if flower=='rose':\n",
        "  print('花は薔薇ですね')\n",
        "elif flower=='tulip':\n",
        "  print('花はチューリップですね')\n",
        "else:\n",
        "  print('花は薔薇でもチューリップでもないですね。')"
      ],
      "execution_count": 21,
      "outputs": [
        {
          "output_type": "stream",
          "name": "stdout",
          "text": [
            "False\n",
            "花はチューリップですね\n"
          ]
        }
      ]
    },
    {
      "cell_type": "markdown",
      "metadata": {
        "id": "6_pOoFs23vJM"
      },
      "source": [
        "# 条件式の and, not, or"
      ]
    },
    {
      "cell_type": "code",
      "metadata": {
        "id": "NzQ5iXL731ym",
        "outputId": "80f94630-2981-45d2-e1b6-668926a0eee0",
        "colab": {
          "base_uri": "https://localhost:8080/"
        }
      },
      "source": [
        "A=True\n",
        "B=True\n",
        "\n",
        "print(A and B)\n",
        "if A and B:\n",
        "  print('AとBが同時にTrueの場合')"
      ],
      "execution_count": 22,
      "outputs": [
        {
          "output_type": "stream",
          "name": "stdout",
          "text": [
            "True\n",
            "AとBが同時にTrueの場合\n"
          ]
        }
      ]
    },
    {
      "cell_type": "code",
      "metadata": {
        "id": "3hhgF1Pz4krb",
        "outputId": "7b028899-8bb5-47b8-ae6b-a653f67c7887",
        "colab": {
          "base_uri": "https://localhost:8080/"
        }
      },
      "source": [
        "A=True\n",
        "B=False\n",
        "\n",
        "print(A or B)\n",
        "if A or B:\n",
        "  print('AかBがどっちかTrueの場合')\n",
        "\n",
        "\n",
        "A=False\n",
        "B=True\n",
        "\n",
        "print(A or B)\n",
        "if A or B:\n",
        "  print('AかBがどっちかTrueの場合')"
      ],
      "execution_count": 23,
      "outputs": [
        {
          "output_type": "stream",
          "name": "stdout",
          "text": [
            "True\n",
            "AかBがどっちかTrueの場合\n",
            "True\n",
            "AかBがどっちかTrueの場合\n"
          ]
        }
      ]
    },
    {
      "cell_type": "markdown",
      "metadata": {
        "id": "vtOGi4mPQfGl"
      },
      "source": [
        "# for文\n",
        "\n"
      ]
    },
    {
      "cell_type": "code",
      "metadata": {
        "id": "GLQ7A8VChydW",
        "outputId": "25659782-9c18-4eb4-c1d5-707fe88e62c6",
        "colab": {
          "base_uri": "https://localhost:8080/"
        }
      },
      "source": [
        "languages={'English':'英語','French':'フランス語','Japanese':'日本語'}\n",
        "for one_language in languages:\n",
        "  print(one_language)"
      ],
      "execution_count": 24,
      "outputs": [
        {
          "output_type": "stream",
          "name": "stdout",
          "text": [
            "English\n",
            "French\n",
            "Japanese\n"
          ]
        }
      ]
    },
    {
      "cell_type": "code",
      "metadata": {
        "id": "hsgDCF-ihZ3u",
        "outputId": "7ddebbc9-18e9-4d33-b412-4b9edea7ffb3",
        "colab": {
          "base_uri": "https://localhost:8080/"
        }
      },
      "source": [
        "train_data=[1,2,3,4,5,6,7,8,9,10]\n",
        "for one_data in train_data:\n",
        "  print(one_data)"
      ],
      "execution_count": 25,
      "outputs": [
        {
          "output_type": "stream",
          "name": "stdout",
          "text": [
            "1\n",
            "2\n",
            "3\n",
            "4\n",
            "5\n",
            "6\n",
            "7\n",
            "8\n",
            "9\n",
            "10\n"
          ]
        }
      ]
    },
    {
      "cell_type": "markdown",
      "metadata": {
        "id": "8J3hJoDe5v01"
      },
      "source": [
        "## range()による数値シーケンスの生成"
      ]
    },
    {
      "cell_type": "code",
      "metadata": {
        "id": "ybl78CE752PX",
        "outputId": "3bd06001-977f-4b40-fbb2-dacc6d966cd1",
        "colab": {
          "base_uri": "https://localhost:8080/"
        }
      },
      "source": [
        "for number in range(0,6):\n",
        "  print(number)"
      ],
      "execution_count": 26,
      "outputs": [
        {
          "output_type": "stream",
          "name": "stdout",
          "text": [
            "0\n",
            "1\n",
            "2\n",
            "3\n",
            "4\n",
            "5\n"
          ]
        }
      ]
    },
    {
      "cell_type": "code",
      "metadata": {
        "id": "NN_xEPHx6oOT",
        "outputId": "ed649645-12e3-4d02-8ec3-3be3a593bc68",
        "colab": {
          "base_uri": "https://localhost:8080/"
        }
      },
      "source": [
        "for number in range(0,110,10):\n",
        "  print(number)"
      ],
      "execution_count": 27,
      "outputs": [
        {
          "output_type": "stream",
          "name": "stdout",
          "text": [
            "0\n",
            "10\n",
            "20\n",
            "30\n",
            "40\n",
            "50\n",
            "60\n",
            "70\n",
            "80\n",
            "90\n",
            "100\n"
          ]
        }
      ]
    },
    {
      "cell_type": "code",
      "metadata": {
        "id": "Xz8softQ7T5R",
        "outputId": "d9b7f12f-5ca4-483c-deca-c66de43040cd",
        "colab": {
          "base_uri": "https://localhost:8080/"
        }
      },
      "source": [
        "number_of_epoch=10\n",
        "for epoch in range(number_of_epoch):\n",
        "  print('学習しました：'+str(epoch)+'回')"
      ],
      "execution_count": null,
      "outputs": [
        {
          "output_type": "stream",
          "name": "stdout",
          "text": [
            "学習しました：0回\n",
            "学習しました：1回\n",
            "学習しました：2回\n",
            "学習しました：3回\n",
            "学習しました：4回\n",
            "学習しました：5回\n",
            "学習しました：6回\n",
            "学習しました：7回\n",
            "学習しました：8回\n",
            "学習しました：9回\n"
          ]
        }
      ]
    },
    {
      "cell_type": "markdown",
      "metadata": {
        "id": "kjWopkQTQiGC"
      },
      "source": [
        "# while文"
      ]
    },
    {
      "cell_type": "code",
      "metadata": {
        "id": "ALnXFL4Pif1P",
        "outputId": "6e2e57eb-eb67-4818-bfbc-9e8860327a03",
        "colab": {
          "base_uri": "https://localhost:8080/"
        }
      },
      "source": [
        "train_data=[1,2,3,4,5,6,7,8,9,10]\n",
        "counter=0\n",
        "while counter<7:\n",
        "  print(train_data[counter])\n",
        "  counter=counter+1"
      ],
      "execution_count": null,
      "outputs": [
        {
          "output_type": "stream",
          "name": "stdout",
          "text": [
            "1\n",
            "2\n",
            "3\n",
            "4\n",
            "5\n",
            "6\n",
            "7\n"
          ]
        }
      ]
    },
    {
      "cell_type": "code",
      "metadata": {
        "id": "cYU5PnhLkCOF",
        "outputId": "b456741e-19cd-4463-e18e-4af5064b7e8f",
        "colab": {
          "base_uri": "https://localhost:8080/"
        }
      },
      "source": [
        "languages={'English':'英語','French':'フランス語','Japanese':'日本語'}\n",
        "for key, value in languages.items():\n",
        "  print(key)\n",
        "  print(value)\n",
        "  print('--------')"
      ],
      "execution_count": null,
      "outputs": [
        {
          "output_type": "stream",
          "name": "stdout",
          "text": [
            "English\n",
            "英語\n",
            "--------\n",
            "French\n",
            "フランス語\n",
            "--------\n",
            "Japanese\n",
            "日本語\n",
            "--------\n"
          ]
        }
      ]
    },
    {
      "cell_type": "markdown",
      "metadata": {
        "id": "C8GpvyL9Qj3i"
      },
      "source": [
        "# 関数\n"
      ]
    },
    {
      "cell_type": "code",
      "metadata": {
        "id": "NtYdYDWmmzsK",
        "outputId": "41264804-d4b1-4b2e-d728-ab7e38408cf1",
        "colab": {
          "base_uri": "https://localhost:8080/"
        }
      },
      "source": [
        "languages={'English':'英語','French':'フランス語','Japanese':'日本語'}\n",
        "\n",
        "# 関数の定義\n",
        "def printLanguageTranslation(language_list):\n",
        "  for key, value in language_list.items():\n",
        "    print(key)\n",
        "    print(value)\n",
        "    print('--------')\n",
        "\n",
        "# 関数を使います\n",
        "printLanguageTranslation(languages)"
      ],
      "execution_count": null,
      "outputs": [
        {
          "output_type": "stream",
          "name": "stdout",
          "text": [
            "English\n",
            "英語\n",
            "--------\n",
            "French\n",
            "フランス語\n",
            "--------\n",
            "Japanese\n",
            "日本語\n",
            "--------\n"
          ]
        }
      ]
    },
    {
      "cell_type": "markdown",
      "metadata": {
        "id": "wx2Cp5dPhGFt"
      },
      "source": [
        "# インポート\n"
      ]
    },
    {
      "cell_type": "code",
      "metadata": {
        "id": "EUnkUM7bnwAf",
        "outputId": "8cf293e7-67a7-4bae-9f84-33561df55948",
        "colab": {
          "base_uri": "https://localhost:8080/"
        }
      },
      "source": [
        "import numpy as np\n",
        "print(np.__version__)"
      ],
      "execution_count": null,
      "outputs": [
        {
          "output_type": "stream",
          "name": "stdout",
          "text": [
            "1.23.5\n"
          ]
        }
      ]
    },
    {
      "cell_type": "code",
      "source": [
        "a = [1,2,3,4,5]"
      ],
      "metadata": {
        "id": "EEtjoPUTsmtt"
      },
      "execution_count": null,
      "outputs": []
    },
    {
      "cell_type": "code",
      "source": [
        "b = a"
      ],
      "metadata": {
        "id": "gKWa5vQKt60T"
      },
      "execution_count": null,
      "outputs": []
    },
    {
      "cell_type": "code",
      "source": [
        "c = a[:]"
      ],
      "metadata": {
        "id": "DSQH5Lgrt701"
      },
      "execution_count": null,
      "outputs": []
    },
    {
      "cell_type": "code",
      "source": [
        "del a[0]"
      ],
      "metadata": {
        "id": "zI84nQBRt9me"
      },
      "execution_count": null,
      "outputs": []
    },
    {
      "cell_type": "code",
      "source": [
        "b"
      ],
      "metadata": {
        "id": "WN8DaWr_t_Zc",
        "outputId": "1e3f18f1-a12d-429e-d9bd-7d7c103a6a3c",
        "colab": {
          "base_uri": "https://localhost:8080/"
        }
      },
      "execution_count": null,
      "outputs": [
        {
          "output_type": "execute_result",
          "data": {
            "text/plain": [
              "[2, 3, 4, 5]"
            ]
          },
          "metadata": {},
          "execution_count": 42
        }
      ]
    },
    {
      "cell_type": "code",
      "source": [
        "c"
      ],
      "metadata": {
        "id": "AtCfHBA4uAWO",
        "outputId": "d4443778-17cf-4c6b-ee0d-e2dffa29c05f",
        "colab": {
          "base_uri": "https://localhost:8080/"
        }
      },
      "execution_count": null,
      "outputs": [
        {
          "output_type": "execute_result",
          "data": {
            "text/plain": [
              "[1, 2, 3, 4, 5]"
            ]
          },
          "metadata": {},
          "execution_count": 43
        }
      ]
    },
    {
      "cell_type": "code",
      "source": [],
      "metadata": {
        "id": "LwR73ueIuDAJ"
      },
      "execution_count": null,
      "outputs": []
    }
  ]
}